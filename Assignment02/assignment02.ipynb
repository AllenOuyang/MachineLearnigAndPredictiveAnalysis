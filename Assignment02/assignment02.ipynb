{
 "cells": [
  {
   "cell_type": "code",
   "execution_count": 41,
   "metadata": {},
   "outputs": [],
   "source": [
    "import pandas as pd\n",
    "import numpy as np\n",
    "import os\n",
    "from sklearn.linear_model import LassoCV\n",
    "from sklearn.linear_model import LinearRegression\n",
    "import statsmodels.api as sm\n",
    "\n",
    "data_path = \"/Users/allenouyang/jupyter/2023Spring ML&PA(MSU)/Assignment02\"\n",
    "data = pd.read_csv(os.path.join(data_path,\"test_sample.csv\"))\n"
   ]
  },
  {
   "cell_type": "code",
   "execution_count": 15,
   "metadata": {},
   "outputs": [],
   "source": [
    "Y = data[\"Y\"]\n",
    "X = data.drop(columns=[\"Y\"])"
   ]
  },
  {
   "cell_type": "code",
   "execution_count": 29,
   "metadata": {},
   "outputs": [],
   "source": [
    "lasso = LassoCV(cv=5, random_state=1)\n",
    "lasso.fit(X,Y)\n",
    "alpha_min = lasso.alpha_\n",
    "coeffs = lasso.coef_"
   ]
  },
  {
   "cell_type": "code",
   "execution_count": 17,
   "metadata": {},
   "outputs": [],
   "source": [
    "eliminated_by_Lasso = np.where(coeffs == 0)[0]"
   ]
  },
  {
   "cell_type": "code",
   "execution_count": 67,
   "metadata": {},
   "outputs": [],
   "source": [
    "# Add a constant term to the predictor variables\n",
    "X = sm.add_constant(X)\n",
    "\n",
    "# Fit OLS regression model\n",
    "lm = sm.OLS(Y, X).fit()\n",
    "\n",
    "# Get p-values for the coefficients\n",
    "p_values = lm.pvalues[1:]\n",
    "\n",
    "# Find the indices of eliminated regressors\n",
    "eliminated_by_lm = np.where(p_values > 0.1)[0]\n"
   ]
  },
  {
   "cell_type": "code",
   "execution_count": 68,
   "metadata": {},
   "outputs": [
    {
     "data": {
      "text/plain": [
       "(16,)"
      ]
     },
     "execution_count": 68,
     "metadata": {},
     "output_type": "execute_result"
    }
   ],
   "source": [
    "eliminated_by_lm.shape"
   ]
  },
  {
   "cell_type": "code",
   "execution_count": 69,
   "metadata": {},
   "outputs": [],
   "source": [
    "eliminated_by_lm = np.where(p_values > 0.1)[0]"
   ]
  },
  {
   "cell_type": "code",
   "execution_count": 70,
   "metadata": {},
   "outputs": [
    {
     "name": "stdout",
     "output_type": "stream",
     "text": [
      "[ 16  22  35  58 101 102 108 170 172 193 202 240 262 272 324 325 341 369\n",
      " 401 410 419 446 451]\n",
      "[  1  10  22  34  35  56  72 108 155 175 202 222 283 331 407 419]\n"
     ]
    }
   ],
   "source": [
    "lasso_zeros = ' '.join([str(idx) for idx in eliminated_by_Lasso])\n",
    "lm_zeros = ' '.join([str(idx) for idx in eliminated_by_lm])\n",
    "print(eliminated_by_Lasso)\n",
    "print(eliminated_by_lm)\n",
    "pd.DataFrame([lasso_zeros,lm_zeros], index = ['eliminated_by_Lasso','eliminated_by_lm']).to_csv('answer.csv')"
   ]
  }
 ],
 "metadata": {
  "kernelspec": {
   "display_name": "mlpa",
   "language": "python",
   "name": "mlpa"
  },
  "language_info": {
   "codemirror_mode": {
    "name": "ipython",
    "version": 3
   },
   "file_extension": ".py",
   "mimetype": "text/x-python",
   "name": "python",
   "nbconvert_exporter": "python",
   "pygments_lexer": "ipython3",
   "version": "3.8.13"
  },
  "orig_nbformat": 4
 },
 "nbformat": 4,
 "nbformat_minor": 2
}
