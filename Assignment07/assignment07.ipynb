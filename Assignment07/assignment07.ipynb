{
 "cells": [
  {
   "cell_type": "code",
   "execution_count": 1,
   "metadata": {},
   "outputs": [
    {
     "name": "stdout",
     "output_type": "stream",
     "text": [
      "5 9 2 4 3 7 8 10 1 6\n",
      "1 6 5 10 9 8 7 2 4 3\n"
     ]
    }
   ],
   "source": [
    "import pandas as pd\n",
    "from sklearn.inspection import permutation_importance\n",
    "from sklearn.linear_model import Ridge\n",
    "from sklearn.neural_network import MLPRegressor\n",
    "\n",
    "\n",
    "data_path = \"/Users/allenouyang/jupyter/2023Spring ML&PA(MSU)/Assignment07/\"\n",
    "train = pd.read_csv(data_path + 'data.csv')\n",
    "feats = [f\"x{i}\" for i in range(1, 11)]\n",
    "X, Y = train[feats], train[\"y\"]\n",
    "\n",
    "lm = Ridge(alpha=0).fit(X, Y)\n",
    "imp_lm = permutation_importance(lm, X, Y, n_repeats=30, random_state=0)\n",
    "print(*(imp_lm.importances_mean.argsort()[::-1] + 1))\n",
    "\n",
    "mlp = MLPRegressor(hidden_layer_sizes=(128, 64), activation=\"relu\", batch_size=256, early_stopping=True).fit(X.values, Y)\n",
    "imp_mlp = permutation_importance(mlp, X.values, Y, n_repeats=30, random_state=0)\n",
    "print(*(imp_mlp.importances_mean.argsort()[::-1] + 1))"
   ]
  }
 ],
 "metadata": {
  "kernelspec": {
   "display_name": "mlpa",
   "language": "python",
   "name": "mlpa"
  },
  "language_info": {
   "codemirror_mode": {
    "name": "ipython",
    "version": 3
   },
   "file_extension": ".py",
   "mimetype": "text/x-python",
   "name": "python",
   "nbconvert_exporter": "python",
   "pygments_lexer": "ipython3",
   "version": "3.8.13"
  },
  "orig_nbformat": 4
 },
 "nbformat": 4,
 "nbformat_minor": 2
}
